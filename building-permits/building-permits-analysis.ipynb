{
 "cells": [
  {
   "cell_type": "code",
   "execution_count": 0,
   "metadata": {
    "application/vnd.databricks.v1+cell": {
     "cellMetadata": {
      "byteLimit": 2048000,
      "rowLimit": 10000
     },
     "inputWidgets": {},
     "nuid": "b3a78147-d79d-45ef-bc3b-5e1805cd21ce",
     "showTitle": false,
     "title": ""
    }
   },
   "outputs": [],
   "source": [
    "# Import the necessary libraries\n",
    "from pyspark.sql import SparkSession, DataFrame\n",
    "import pyspark.sql.functions as F\n",
    "import pyspark.sql.types as T\n",
    "\n",
    "import requests\n",
    "import csv"
   ]
  },
  {
   "cell_type": "code",
   "execution_count": 0,
   "metadata": {
    "application/vnd.databricks.v1+cell": {
     "cellMetadata": {
      "byteLimit": 2048000,
      "rowLimit": 10000
     },
     "inputWidgets": {},
     "nuid": "eb830ae8-6a78-4ac7-ae84-219fc61d7046",
     "showTitle": false,
     "title": ""
    }
   },
   "outputs": [],
   "source": [
    "spark = SparkSession.builder.getOrCreate()"
   ]
  },
  {
   "cell_type": "code",
   "execution_count": 0,
   "metadata": {
    "application/vnd.databricks.v1+cell": {
     "cellMetadata": {
      "byteLimit": 2048000,
      "rowLimit": 10000
     },
     "inputWidgets": {},
     "nuid": "5d388b91-1b29-435c-975b-722ab36a50cd",
     "showTitle": false,
     "title": ""
    }
   },
   "outputs": [],
   "source": [
    "\n",
    "# read the csv file into spark\n",
    "df = spark.read.csv(\"/FileStore/tables/Building_Permits.csv\", header=True, inferSchema=True)\n",
    "\n"
   ]
  },
  {
   "cell_type": "code",
   "execution_count": 0,
   "metadata": {
    "application/vnd.databricks.v1+cell": {
     "cellMetadata": {
      "byteLimit": 2048000,
      "rowLimit": 10000
     },
     "inputWidgets": {},
     "nuid": "f8ad6172-db1e-4548-8cac-56b078ada76c",
     "showTitle": false,
     "title": ""
    }
   },
   "outputs": [
    {
     "output_type": "stream",
     "name": "stdout",
     "output_type": "stream",
     "text": [
      "root\n |-- Permit Number: string (nullable = true)\n |-- Permit Type: integer (nullable = true)\n |-- Permit Type Definition: string (nullable = true)\n |-- Permit Creation Date: date (nullable = true)\n |-- Block: string (nullable = true)\n |-- Lot: string (nullable = true)\n |-- Street Number: integer (nullable = true)\n |-- Street Number Suffix: string (nullable = true)\n |-- Street Name: string (nullable = true)\n |-- Street Suffix: string (nullable = true)\n |-- Unit: integer (nullable = true)\n |-- Unit Suffix: string (nullable = true)\n |-- Description: string (nullable = true)\n |-- Current Status: string (nullable = true)\n |-- Current Status Date: string (nullable = true)\n |-- Filed Date: string (nullable = true)\n |-- Issued Date: string (nullable = true)\n |-- Completed Date: string (nullable = true)\n |-- First Construction Document Date: string (nullable = true)\n |-- Structural Notification: string (nullable = true)\n |-- Number of Existing Stories: string (nullable = true)\n |-- Number of Proposed Stories: string (nullable = true)\n |-- Voluntary Soft-Story Retrofit: string (nullable = true)\n |-- Fire Only Permit: string (nullable = true)\n |-- Permit Expiration Date: string (nullable = true)\n |-- Estimated Cost: string (nullable = true)\n |-- Revised Cost: string (nullable = true)\n |-- Existing Use: string (nullable = true)\n |-- Existing Units: string (nullable = true)\n |-- Proposed Use: string (nullable = true)\n |-- Proposed Units: string (nullable = true)\n |-- Plansets: string (nullable = true)\n |-- TIDF Compliance: string (nullable = true)\n |-- Existing Construction Type: string (nullable = true)\n |-- Existing Construction Type Description: string (nullable = true)\n |-- Proposed Construction Type: string (nullable = true)\n |-- Proposed Construction Type Description: string (nullable = true)\n |-- Site Permit: string (nullable = true)\n |-- Supervisor District: string (nullable = true)\n |-- Neighborhoods - Analysis Boundaries: string (nullable = true)\n |-- Zipcode: string (nullable = true)\n |-- Location: string (nullable = true)\n |-- Record ID: string (nullable = true)\n\n"
     ]
    }
   ],
   "source": [
    "# Print the schema of the dataframe\n",
    "df.printSchema()"
   ]
  },
  {
   "cell_type": "code",
   "execution_count": 0,
   "metadata": {
    "application/vnd.databricks.v1+cell": {
     "cellMetadata": {
      "byteLimit": 2048000,
      "rowLimit": 10000
     },
     "inputWidgets": {},
     "nuid": "3ebb966c-1a44-4990-98a3-b34c33bcd76b",
     "showTitle": false,
     "title": ""
    }
   },
   "outputs": [
    {
     "output_type": "stream",
     "name": "stdout",
     "output_type": "stream",
     "text": [
      "+-------------+-----------+----------------------+--------------------+-----+---+-------------+--------------------+-----------+-------------+----+-----------+--------------------+--------------+-------------------+----------+-----------+--------------+--------------------------------+-----------------------+--------------------------+--------------------------+-----------------------------+----------------+----------------------+--------------+------------+-------------------+--------------+-----------------+--------------+--------+---------------+--------------------------+--------------------------------------+--------------------------+--------------------------------------+-----------+-------------------+-----------------------------------+-------+--------------------+-------------+\n|Permit Number|Permit Type|Permit Type Definition|Permit Creation Date|Block|Lot|Street Number|Street Number Suffix|Street Name|Street Suffix|Unit|Unit Suffix|         Description|Current Status|Current Status Date|Filed Date|Issued Date|Completed Date|First Construction Document Date|Structural Notification|Number of Existing Stories|Number of Proposed Stories|Voluntary Soft-Story Retrofit|Fire Only Permit|Permit Expiration Date|Estimated Cost|Revised Cost|       Existing Use|Existing Units|     Proposed Use|Proposed Units|Plansets|TIDF Compliance|Existing Construction Type|Existing Construction Type Description|Proposed Construction Type|Proposed Construction Type Description|Site Permit|Supervisor District|Neighborhoods - Analysis Boundaries|Zipcode|            Location|    Record ID|\n+-------------+-----------+----------------------+--------------------+-----+---+-------------+--------------------+-----------+-------------+----+-----------+--------------------+--------------+-------------------+----------+-----------+--------------+--------------------------------+-----------------------+--------------------------+--------------------------+-----------------------------+----------------+----------------------+--------------+------------+-------------------+--------------+-----------------+--------------+--------+---------------+--------------------------+--------------------------------------+--------------------------+--------------------------------------+-----------+-------------------+-----------------------------------+-------+--------------------+-------------+\n| 201505065519|          4|          sign - erect|          2015-05-06| 0326|023|          140|                null|      Ellis|           St|null|       null|ground fl facade:...|       expired|         12/21/2017|05/06/2015| 11/09/2015|          null|                      11/09/2015|                   null|                         6|                      null|                         null|            null|            11/03/2016|          4000|        4000|tourist hotel/motel|           143|             null|          null|       2|           null|                         3|                         constr type 3|                      null|                                  null|       null|                  3|                         Tenderloin|  94102|(37.7857192566807...|1380611233945|\n| 201604195146|          4|          sign - erect|          2016-04-19| 0306|007|          440|                null|      Geary|           St|   0|       null|remove (e) awning...|        issued|         08/03/2017|04/19/2016| 08/03/2017|          null|                      08/03/2017|                   null|                         7|                      null|                         null|            null|            12/03/2017|             1|         500|tourist hotel/motel|          null|             null|          null|       2|           null|                         3|                         constr type 3|                      null|                                  null|       null|                  3|                         Tenderloin|  94102|(37.7873398060073...|1420164406718|\n| 201605278609|          3|  additions alterat...|          2016-05-27| 0595|203|         1647|                null|    Pacific|           Av|null|       null|installation of s...|     withdrawn|         09/26/2017|05/27/2016|       null|          null|                            null|                   null|                         6|                         6|                         null|            null|                  null|         20000|        null|       retail sales|            39|     retail sales|            39|       2|           null|                         1|                         constr type 1|                         1|                         constr type 1|       null|                  3|                       Russian Hill|  94109|(37.7946573324287...|1424856504716|\n| 201611072166|          8|  otc alterations p...|          2016-11-07| 0156|011|         1230|                null|    Pacific|           Av|   0|       null|repair dryrot & s...|      complete|         07/24/2017|11/07/2016| 07/18/2017|    07/24/2017|                      07/18/2017|                   null|                         2|                         2|                         null|            null|            07/13/2018|          2000|        2000|  1 family dwelling|             1|1 family dwelling|             1|       2|           null|                         5|                        wood frame (5)|                         5|                        wood frame (5)|       null|                  3|                           Nob Hill|  94109|(37.7959586790916...|1443574295566|\n| 201611283529|          6|           demolitions|          2016-11-28| 0342|001|          950|                null|     Market|           St|null|       null|demolish retail/o...|        issued|         12/01/2017|11/28/2016| 12/01/2017|          null|                      11/20/2017|                   null|                         3|                      null|                         null|            null|            12/01/2018|        100000|      100000|       retail sales|          null|             null|          null|       2|           null|                         3|                         constr type 3|                      null|                                  null|       null|                  6|                         Tenderloin|  94102|(37.7831526189730...| 144548169992|\n+-------------+-----------+----------------------+--------------------+-----+---+-------------+--------------------+-----------+-------------+----+-----------+--------------------+--------------+-------------------+----------+-----------+--------------+--------------------------------+-----------------------+--------------------------+--------------------------+-----------------------------+----------------+----------------------+--------------+------------+-------------------+--------------+-----------------+--------------+--------+---------------+--------------------------+--------------------------------------+--------------------------+--------------------------------------+-----------+-------------------+-----------------------------------+-------+--------------------+-------------+\nonly showing top 5 rows\n\n"
     ]
    }
   ],
   "source": [
    "# Display the first five rows \n",
    "df.show()"
   ]
  },
  {
   "cell_type": "code",
   "execution_count": 0,
   "metadata": {
    "application/vnd.databricks.v1+cell": {
     "cellMetadata": {
      "byteLimit": 2048000,
      "rowLimit": 10000
     },
     "inputWidgets": {},
     "nuid": "85b095ca-6e68-4d3f-b9d9-11eef85de385",
     "showTitle": false,
     "title": ""
    }
   },
   "outputs": [
    {
     "output_type": "stream",
     "name": "stdout",
     "output_type": "stream",
     "text": [
      "Out[18]: DataFrame[Permit Number: bigint, Permit Type: bigint, Permit Type Definition: bigint, Permit Creation Date: bigint, Block: bigint, Lot: bigint, Street Number: bigint, Street Number Suffix: bigint, Street Name: bigint, Street Suffix: bigint, Unit: bigint, Unit Suffix: bigint, Description: bigint, Current Status: bigint, Current Status Date: bigint, Filed Date: bigint, Issued Date: bigint, Completed Date: bigint, First Construction Document Date: bigint, Structural Notification: bigint, Number of Existing Stories: bigint, Number of Proposed Stories: bigint, Voluntary Soft-Story Retrofit: bigint, Fire Only Permit: bigint, Permit Expiration Date: bigint, Estimated Cost: bigint, Revised Cost: bigint, Existing Use: bigint, Existing Units: bigint, Proposed Use: bigint, Proposed Units: bigint, Plansets: bigint, TIDF Compliance: bigint, Existing Construction Type: bigint, Existing Construction Type Description: bigint, Proposed Construction Type: bigint, Proposed Construction Type Description: bigint, Site Permit: bigint, Supervisor District: bigint, Neighborhoods - Analysis Boundaries: bigint, Zipcode: bigint, Location: bigint, Record ID: bigint]"
     ]
    }
   ],
   "source": [
    "# Count the missing data points in each column \n",
    "missing_values = df.select([F.sum(F.col(c).isNull().cast(\"int\")).alias(c) for c in df.columns])\n",
    "missing_values"
   ]
  },
  {
   "cell_type": "code",
   "execution_count": 0,
   "metadata": {
    "application/vnd.databricks.v1+cell": {
     "cellMetadata": {
      "byteLimit": 2048000,
      "rowLimit": 10000
     },
     "inputWidgets": {},
     "nuid": "6f119d20-966c-497d-b251-9655f7189a6a",
     "showTitle": false,
     "title": ""
    }
   },
   "outputs": [
    {
     "output_type": "stream",
     "name": "stdout",
     "output_type": "stream",
     "text": [
      "+-------------+-----------+----------------------+--------------------+-----+---+-------------+--------------------+-----------+-------------+----+-----------+-----------+--------------+-------------------+----------+-----------+--------------+--------------------------------+-----------------------+--------------------------+--------------------------+-----------------------------+----------------+----------------------+--------------+------------+------------+--------------+------------+--------------+--------+---------------+--------------------------+--------------------------------------+--------------------------+--------------------------------------+-----------+-------------------+-----------------------------------+-------+--------+---------+\n|Permit Number|Permit Type|Permit Type Definition|Permit Creation Date|Block|Lot|Street Number|Street Number Suffix|Street Name|Street Suffix|Unit|Unit Suffix|Description|Current Status|Current Status Date|Filed Date|Issued Date|Completed Date|First Construction Document Date|Structural Notification|Number of Existing Stories|Number of Proposed Stories|Voluntary Soft-Story Retrofit|Fire Only Permit|Permit Expiration Date|Estimated Cost|Revised Cost|Existing Use|Existing Units|Proposed Use|Proposed Units|Plansets|TIDF Compliance|Existing Construction Type|Existing Construction Type Description|Proposed Construction Type|Proposed Construction Type Description|Site Permit|Supervisor District|Neighborhoods - Analysis Boundaries|Zipcode|Location|Record ID|\n+-------------+-----------+----------------------+--------------------+-----+---+-------------+--------------------+-----------+-------------+----+-----------+-----------+--------------+-------------------+----------+-----------+--------------+--------------------------------+-----------------------+--------------------------+--------------------------+-----------------------------+----------------+----------------------+--------------+------------+------------+--------------+------------+--------------+--------+---------------+--------------------------+--------------------------------------+--------------------------+--------------------------------------+-----------+-------------------+-----------------------------------+-------+--------+---------+\n+-------------+-----------+----------------------+--------------------+-----+---+-------------+--------------------+-----------+-------------+----+-----------+-----------+--------------+-------------------+----------+-----------+--------------+--------------------------------+-----------------------+--------------------------+--------------------------+-----------------------------+----------------+----------------------+--------------+------------+------------+--------------+------------+--------------+--------+---------------+--------------------------+--------------------------------------+--------------------------+--------------------------------------+-----------+-------------------+-----------------------------------+-------+--------+---------+\n\n"
     ]
    }
   ],
   "source": [
    "# drop rows that contain missing values\n",
    "null_dropped = df.dropna().show()\n",
    "null_dropped"
   ]
  }
 ],
 "metadata": {
  "application/vnd.databricks.v1+notebook": {
   "dashboards": [],
   "language": "python",
   "notebookMetadata": {
    "pythonIndentUnit": 4
   },
   "notebookName": "building-permits-analysis",
   "widgets": {}
  }
 },
 "nbformat": 4,
 "nbformat_minor": 0
}
