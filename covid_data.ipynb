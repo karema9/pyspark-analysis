{
  "nbformat": 4,
  "nbformat_minor": 0,
  "metadata": {
    "colab": {
      "provenance": [],
      "authorship_tag": "ABX9TyMbJ81sjpLGXejvqohQK1gP",
      "include_colab_link": true
    },
    "kernelspec": {
      "name": "python3",
      "display_name": "Python 3"
    },
    "language_info": {
      "name": "python"
    }
  },
  "cells": [
    {
      "cell_type": "markdown",
      "metadata": {
        "id": "view-in-github",
        "colab_type": "text"
      },
      "source": [
        "<a href=\"https://colab.research.google.com/github/karema9/pyspark-analysis/blob/master/covid_data.ipynb\" target=\"_parent\"><img src=\"https://colab.research.google.com/assets/colab-badge.svg\" alt=\"Open In Colab\"/></a>"
      ]
    },
    {
      "cell_type": "markdown",
      "source": [
        "**Explaratory Data Analysis with Pyspark**"
      ],
      "metadata": {
        "id": "OCAztwOa_9Hg"
      }
    },
    {
      "cell_type": "markdown",
      "source": [
        "Setting up the Pyspark environment"
      ],
      "metadata": {
        "id": "00ZpCNMHAKSv"
      }
    },
    {
      "cell_type": "code",
      "source": [
        "!sudo apt update\n",
        "!apt-get install openjdk-8-jdk-headless -qq > /dev/null\n",
        "#Check this site for the latest download link https://www.apache.org/dyn/closer.lua/spark/spark-3.2.1/spark-3.2.1-bin-hadoop3.2.tgz\n",
        "!wget -q https://dlcdn.apache.org/spark/spark-3.2.1/spark-3.2.1-bin-hadoop3.2.tgz\n",
        "!tar xf spark-3.2.1-bin-hadoop3.2.tgz\n",
        "!pip install -q findspark\n",
        "!pip install pyspark\n",
        "!pip install py4j\n",
        "\n",
        "import os\n",
        "import sys\n",
        "\n",
        "import findspark\n",
        "findspark.init()\n",
        "findspark.find()\n",
        "\n",
        "import pyspark\n",
        "\n",
        "from pyspark.sql import DataFrame, SparkSession\n",
        "import pyspark.sql.types as T\n",
        "import pyspark.sql.functions as F\n",
        "\n",
        "from typing import List\n",
        "\n",
        "# declare the spark session here\n",
        "spark = SparkSession.builder.appName(\"Spark Program\").getOrCreate()\n",
        "\n",
        "\n"
      ],
      "metadata": {
        "id": "Hs8JtaVtARR-",
        "colab": {
          "base_uri": "https://localhost:8080/"
        },
        "outputId": "26f82ea0-141c-4287-8b12-c7d178cd5a91"
      },
      "execution_count": null,
      "outputs": [
        {
          "output_type": "stream",
          "name": "stdout",
          "text": [
            "Get:1 http://security.ubuntu.com/ubuntu jammy-security InRelease [110 kB]\n",
            "Get:2 https://cloud.r-project.org/bin/linux/ubuntu jammy-cran40/ InRelease [3,626 B]\n",
            "Hit:3 https://developer.download.nvidia.com/compute/cuda/repos/ubuntu2204/x86_64  InRelease\n",
            "Get:4 http://security.ubuntu.com/ubuntu jammy-security/universe amd64 Packages [1,016 kB]\n",
            "Get:5 https://ppa.launchpadcontent.net/c2d4u.team/c2d4u4.0+/ubuntu jammy InRelease [18.1 kB]\n",
            "Get:6 http://security.ubuntu.com/ubuntu jammy-security/main amd64 Packages [1,242 kB]\n",
            "Hit:7 https://ppa.launchpadcontent.net/deadsnakes/ppa/ubuntu jammy InRelease\n",
            "Hit:8 https://ppa.launchpadcontent.net/graphics-drivers/ppa/ubuntu jammy InRelease\n",
            "Hit:9 https://ppa.launchpadcontent.net/ubuntugis/ppa/ubuntu jammy InRelease\n",
            "Get:10 https://ppa.launchpadcontent.net/c2d4u.team/c2d4u4.0+/ubuntu jammy/main Sources [2,244 kB]\n",
            "Hit:11 http://archive.ubuntu.com/ubuntu jammy InRelease\n",
            "Get:12 http://archive.ubuntu.com/ubuntu jammy-updates InRelease [119 kB]\n",
            "Hit:13 http://archive.ubuntu.com/ubuntu jammy-backports InRelease\n",
            "Get:14 https://ppa.launchpadcontent.net/c2d4u.team/c2d4u4.0+/ubuntu jammy/main amd64 Packages [1,152 kB]\n",
            "Get:15 http://archive.ubuntu.com/ubuntu jammy-updates/universe amd64 Packages [1,284 kB]\n",
            "Get:16 http://archive.ubuntu.com/ubuntu jammy-updates/restricted amd64 Packages [1,498 kB]\n",
            "Get:17 http://archive.ubuntu.com/ubuntu jammy-updates/main amd64 Packages [1,521 kB]\n",
            "Fetched 10.2 MB in 3s (4,007 kB/s)\n",
            "Reading package lists... Done\n",
            "Building dependency tree... Done\n",
            "Reading state information... Done\n",
            "32 packages can be upgraded. Run 'apt list --upgradable' to see them.\n",
            "tar: spark-3.2.1-bin-hadoop3.2.tgz: Cannot open: No such file or directory\n",
            "tar: Error is not recoverable: exiting now\n",
            "Collecting pyspark\n",
            "  Downloading pyspark-3.5.0.tar.gz (316.9 MB)\n",
            "\u001b[2K     \u001b[90m━━━━━━━━━━━━━━━━━━━━━━━━━━━━━━━━━━━━━━━━\u001b[0m \u001b[32m316.9/316.9 MB\u001b[0m \u001b[31m4.4 MB/s\u001b[0m eta \u001b[36m0:00:00\u001b[0m\n",
            "\u001b[?25h  Preparing metadata (setup.py) ... \u001b[?25l\u001b[?25hdone\n",
            "Requirement already satisfied: py4j==0.10.9.7 in /usr/local/lib/python3.10/dist-packages (from pyspark) (0.10.9.7)\n",
            "Building wheels for collected packages: pyspark\n",
            "  Building wheel for pyspark (setup.py) ... \u001b[?25l\u001b[?25hdone\n",
            "  Created wheel for pyspark: filename=pyspark-3.5.0-py2.py3-none-any.whl size=317425344 sha256=f55ae90abdd00b0dcba84cc08553f59381e0d7587e62f3438e9adb221c80c9ef\n",
            "  Stored in directory: /root/.cache/pip/wheels/41/4e/10/c2cf2467f71c678cfc8a6b9ac9241e5e44a01940da8fbb17fc\n",
            "Successfully built pyspark\n",
            "Installing collected packages: pyspark\n",
            "Successfully installed pyspark-3.5.0\n",
            "Requirement already satisfied: py4j in /usr/local/lib/python3.10/dist-packages (0.10.9.7)\n"
          ]
        }
      ]
    },
    {
      "cell_type": "code",
      "source": [
        "import pyspark.sql.functions as F\n",
        "import pyspark.sql.types as T\n",
        "from pyspark.sql import DataFrame, SparkSession"
      ],
      "metadata": {
        "id": "HedP24N4h5c5"
      },
      "execution_count": 2,
      "outputs": []
    },
    {
      "cell_type": "code",
      "source": [
        "# check if the installation was successful\n",
        "spark"
      ],
      "metadata": {
        "colab": {
          "base_uri": "https://localhost:8080/",
          "height": 219
        },
        "id": "wQ5wssE8Nre8",
        "outputId": "7753ad00-e013-4bd5-9724-fc3d5c91ac2f"
      },
      "execution_count": 3,
      "outputs": [
        {
          "output_type": "execute_result",
          "data": {
            "text/plain": [
              "<pyspark.sql.session.SparkSession at 0x7a29140e1ab0>"
            ],
            "text/html": [
              "\n",
              "            <div>\n",
              "                <p><b>SparkSession - in-memory</b></p>\n",
              "                \n",
              "        <div>\n",
              "            <p><b>SparkContext</b></p>\n",
              "\n",
              "            <p><a href=\"http://2aecae8cd836:4040\">Spark UI</a></p>\n",
              "\n",
              "            <dl>\n",
              "              <dt>Version</dt>\n",
              "                <dd><code>v3.5.0</code></dd>\n",
              "              <dt>Master</dt>\n",
              "                <dd><code>local[*]</code></dd>\n",
              "              <dt>AppName</dt>\n",
              "                <dd><code>Spark Program</code></dd>\n",
              "            </dl>\n",
              "        </div>\n",
              "        \n",
              "            </div>\n",
              "        "
            ]
          },
          "metadata": {},
          "execution_count": 3
        }
      ]
    },
    {
      "cell_type": "markdown",
      "source": [
        "# 2. **Reading Data**"
      ],
      "metadata": {
        "id": "gn-v8U_jRL6z"
      }
    },
    {
      "cell_type": "code",
      "source": [
        "import requests\n",
        "\n",
        "uri = \"https://raw.githubusercontent.com/owid/covid-19-data/master/public/data/owid-covid-data.csv\"\n",
        "res = requests.get(uri)\n",
        "data = res.content\n",
        "\n",
        "# open a csv file and write the data\n",
        "data_file = open(\"covid-data.csv\", \"wb\")\n",
        "data_file.write(data)\n",
        "data_file.close()\n",
        "\n",
        "# read the data using spark\n",
        "df = spark.read.csv(\"covid-data.csv\", header=True, inferSchema=True)"
      ],
      "metadata": {
        "id": "JEQhkordOBdN"
      },
      "execution_count": 4,
      "outputs": []
    },
    {
      "cell_type": "markdown",
      "source": [
        "# 3. DataFrames"
      ],
      "metadata": {
        "id": "KfvKmBVjcID4"
      }
    },
    {
      "cell_type": "code",
      "source": [
        "# display the schema of the dataframe\n",
        "df.printSchema()"
      ],
      "metadata": {
        "id": "QW9TRGD_cQOp",
        "colab": {
          "base_uri": "https://localhost:8080/"
        },
        "outputId": "6a0b7022-da1c-444c-f91a-307296e2b991"
      },
      "execution_count": 6,
      "outputs": [
        {
          "output_type": "stream",
          "name": "stdout",
          "text": [
            "root\n",
            " |-- iso_code: string (nullable = true)\n",
            " |-- continent: string (nullable = true)\n",
            " |-- location: string (nullable = true)\n",
            " |-- date: date (nullable = true)\n",
            " |-- total_cases: double (nullable = true)\n",
            " |-- new_cases: double (nullable = true)\n",
            " |-- new_cases_smoothed: double (nullable = true)\n",
            " |-- total_deaths: double (nullable = true)\n",
            " |-- new_deaths: double (nullable = true)\n",
            " |-- new_deaths_smoothed: double (nullable = true)\n",
            " |-- total_cases_per_million: double (nullable = true)\n",
            " |-- new_cases_per_million: double (nullable = true)\n",
            " |-- new_cases_smoothed_per_million: double (nullable = true)\n",
            " |-- total_deaths_per_million: double (nullable = true)\n",
            " |-- new_deaths_per_million: double (nullable = true)\n",
            " |-- new_deaths_smoothed_per_million: double (nullable = true)\n",
            " |-- reproduction_rate: double (nullable = true)\n",
            " |-- icu_patients: double (nullable = true)\n",
            " |-- icu_patients_per_million: double (nullable = true)\n",
            " |-- hosp_patients: double (nullable = true)\n",
            " |-- hosp_patients_per_million: double (nullable = true)\n",
            " |-- weekly_icu_admissions: double (nullable = true)\n",
            " |-- weekly_icu_admissions_per_million: double (nullable = true)\n",
            " |-- weekly_hosp_admissions: double (nullable = true)\n",
            " |-- weekly_hosp_admissions_per_million: double (nullable = true)\n",
            " |-- total_tests: double (nullable = true)\n",
            " |-- new_tests: double (nullable = true)\n",
            " |-- total_tests_per_thousand: double (nullable = true)\n",
            " |-- new_tests_per_thousand: double (nullable = true)\n",
            " |-- new_tests_smoothed: double (nullable = true)\n",
            " |-- new_tests_smoothed_per_thousand: double (nullable = true)\n",
            " |-- positive_rate: double (nullable = true)\n",
            " |-- tests_per_case: double (nullable = true)\n",
            " |-- tests_units: string (nullable = true)\n",
            " |-- total_vaccinations: double (nullable = true)\n",
            " |-- people_vaccinated: double (nullable = true)\n",
            " |-- people_fully_vaccinated: double (nullable = true)\n",
            " |-- total_boosters: double (nullable = true)\n",
            " |-- new_vaccinations: double (nullable = true)\n",
            " |-- new_vaccinations_smoothed: double (nullable = true)\n",
            " |-- total_vaccinations_per_hundred: double (nullable = true)\n",
            " |-- people_vaccinated_per_hundred: double (nullable = true)\n",
            " |-- people_fully_vaccinated_per_hundred: double (nullable = true)\n",
            " |-- total_boosters_per_hundred: double (nullable = true)\n",
            " |-- new_vaccinations_smoothed_per_million: double (nullable = true)\n",
            " |-- new_people_vaccinated_smoothed: double (nullable = true)\n",
            " |-- new_people_vaccinated_smoothed_per_hundred: double (nullable = true)\n",
            " |-- stringency_index: double (nullable = true)\n",
            " |-- population_density: double (nullable = true)\n",
            " |-- median_age: double (nullable = true)\n",
            " |-- aged_65_older: double (nullable = true)\n",
            " |-- aged_70_older: double (nullable = true)\n",
            " |-- gdp_per_capita: double (nullable = true)\n",
            " |-- extreme_poverty: double (nullable = true)\n",
            " |-- cardiovasc_death_rate: double (nullable = true)\n",
            " |-- diabetes_prevalence: double (nullable = true)\n",
            " |-- female_smokers: double (nullable = true)\n",
            " |-- male_smokers: double (nullable = true)\n",
            " |-- handwashing_facilities: double (nullable = true)\n",
            " |-- hospital_beds_per_thousand: double (nullable = true)\n",
            " |-- life_expectancy: double (nullable = true)\n",
            " |-- human_development_index: double (nullable = true)\n",
            " |-- population: double (nullable = true)\n",
            " |-- excess_mortality_cumulative_absolute: double (nullable = true)\n",
            " |-- excess_mortality_cumulative: double (nullable = true)\n",
            " |-- excess_mortality: double (nullable = true)\n",
            " |-- excess_mortality_cumulative_per_million: double (nullable = true)\n",
            "\n"
          ]
        }
      ]
    },
    {
      "cell_type": "code",
      "source": [
        "# Converting a column to a date column\n",
        "df.select(F.to_date(df.date).alias('date')).show()"
      ],
      "metadata": {
        "id": "DIP7MYYmc16m",
        "colab": {
          "base_uri": "https://localhost:8080/"
        },
        "outputId": "f9bed5fa-e142-4ad6-c12f-7a817f2a372b"
      },
      "execution_count": 11,
      "outputs": [
        {
          "output_type": "stream",
          "name": "stdout",
          "text": [
            "+----------+\n",
            "|      date|\n",
            "+----------+\n",
            "|2020-01-03|\n",
            "|2020-01-04|\n",
            "|2020-01-05|\n",
            "|2020-01-06|\n",
            "|2020-01-07|\n",
            "|2020-01-08|\n",
            "|2020-01-09|\n",
            "|2020-01-10|\n",
            "|2020-01-11|\n",
            "|2020-01-12|\n",
            "|2020-01-13|\n",
            "|2020-01-14|\n",
            "|2020-01-15|\n",
            "|2020-01-16|\n",
            "|2020-01-17|\n",
            "|2020-01-18|\n",
            "|2020-01-19|\n",
            "|2020-01-20|\n",
            "|2020-01-21|\n",
            "|2020-01-22|\n",
            "+----------+\n",
            "only showing top 20 rows\n",
            "\n"
          ]
        }
      ]
    },
    {
      "cell_type": "code",
      "source": [
        "# don't run this part, this is for new cases\n",
        "import pyspark\n",
        "from pyspark.sql import SparkSession, DataFrame\n",
        "\n",
        "import pyspark.sql.functions as F\n",
        "import pyspark.sql.types as T\n",
        "\n",
        "spark = SparkSession.builder.appName(\"local\").getOrCreate()"
      ],
      "metadata": {
        "id": "9LLSaCtTy62w"
      },
      "execution_count": null,
      "outputs": []
    },
    {
      "cell_type": "code",
      "source": [
        "# Summary stats\n",
        "df.describe().show()"
      ],
      "metadata": {
        "colab": {
          "base_uri": "https://localhost:8080/"
        },
        "id": "WGKKCBVws4rZ",
        "outputId": "539cd69e-229f-4fd5-8320-c71b0192cf35"
      },
      "execution_count": 13,
      "outputs": [
        {
          "output_type": "stream",
          "name": "stdout",
          "text": [
            "+-------+-------------------+-----------------+\n",
            "|summary|        total_cases|     total_deaths|\n",
            "+-------+-------------------+-----------------+\n",
            "|  count|             320628|           299086|\n",
            "|   mean| 6862418.5074447645|86954.36829206315|\n",
            "| stddev|4.155250615307297E7|443968.2558095905|\n",
            "|    min|                1.0|              1.0|\n",
            "|    max|       7.72165753E8|        6981250.0|\n",
            "+-------+-------------------+-----------------+\n",
            "\n"
          ]
        }
      ]
    },
    {
      "cell_type": "code",
      "source": [
        "# Filtering Dataframes\n",
        "df.filter(df.location == \"Afghanistan\").orderBy(F.desc(\"new_cases\")).show()"
      ],
      "metadata": {
        "colab": {
          "base_uri": "https://localhost:8080/"
        },
        "id": "U0xJzehwtNZN",
        "outputId": "638fddd8-67d9-496a-9401-ec347826e133"
      },
      "execution_count": 12,
      "outputs": [
        {
          "output_type": "stream",
          "name": "stdout",
          "text": [
            "+--------+---------+-----------+----------+-----------+---------+------------------+------------+----------+-------------------+-----------------------+---------------------+------------------------------+------------------------+----------------------+-------------------------------+-----------------+------------+------------------------+-------------+-------------------------+---------------------+---------------------------------+----------------------+----------------------------------+-----------+---------+------------------------+----------------------+------------------+-------------------------------+-------------+--------------+-----------+------------------+-----------------+-----------------------+--------------+----------------+-------------------------+------------------------------+-----------------------------+-----------------------------------+--------------------------+-------------------------------------+------------------------------+------------------------------------------+----------------+------------------+----------+-------------+-------------+--------------+---------------+---------------------+-------------------+--------------+------------+----------------------+--------------------------+---------------+-----------------------+-----------+------------------------------------+---------------------------+----------------+---------------------------------------+\n",
            "|iso_code|continent|   location|      date|total_cases|new_cases|new_cases_smoothed|total_deaths|new_deaths|new_deaths_smoothed|total_cases_per_million|new_cases_per_million|new_cases_smoothed_per_million|total_deaths_per_million|new_deaths_per_million|new_deaths_smoothed_per_million|reproduction_rate|icu_patients|icu_patients_per_million|hosp_patients|hosp_patients_per_million|weekly_icu_admissions|weekly_icu_admissions_per_million|weekly_hosp_admissions|weekly_hosp_admissions_per_million|total_tests|new_tests|total_tests_per_thousand|new_tests_per_thousand|new_tests_smoothed|new_tests_smoothed_per_thousand|positive_rate|tests_per_case|tests_units|total_vaccinations|people_vaccinated|people_fully_vaccinated|total_boosters|new_vaccinations|new_vaccinations_smoothed|total_vaccinations_per_hundred|people_vaccinated_per_hundred|people_fully_vaccinated_per_hundred|total_boosters_per_hundred|new_vaccinations_smoothed_per_million|new_people_vaccinated_smoothed|new_people_vaccinated_smoothed_per_hundred|stringency_index|population_density|median_age|aged_65_older|aged_70_older|gdp_per_capita|extreme_poverty|cardiovasc_death_rate|diabetes_prevalence|female_smokers|male_smokers|handwashing_facilities|hospital_beds_per_thousand|life_expectancy|human_development_index| population|excess_mortality_cumulative_absolute|excess_mortality_cumulative|excess_mortality|excess_mortality_cumulative_per_million|\n",
            "+--------+---------+-----------+----------+-----------+---------+------------------+------------+----------+-------------------+-----------------------+---------------------+------------------------------+------------------------+----------------------+-------------------------------+-----------------+------------+------------------------+-------------+-------------------------+---------------------+---------------------------------+----------------------+----------------------------------+-----------+---------+------------------------+----------------------+------------------+-------------------------------+-------------+--------------+-----------+------------------+-----------------+-----------------------+--------------+----------------+-------------------------+------------------------------+-----------------------------+-----------------------------------+--------------------------+-------------------------------------+------------------------------+------------------------------------------+----------------+------------------+----------+-------------+-------------+--------------+---------------+---------------------+-------------------+--------------+------------+----------------------+--------------------------+---------------+-----------------------+-----------+------------------------------------+---------------------------+----------------+---------------------------------------+\n",
            "|     AFG|     Asia|Afghanistan|2021-06-17|    96531.0|   3243.0|          1519.857|      3842.0|     159.0|             69.429|               2347.043|                78.85|                        36.954|                  93.414|                 3.866|                          1.688|             1.18|        NULL|                    NULL|         NULL|                     NULL|                 NULL|                             NULL|                  NULL|                              NULL|       NULL|     NULL|                    NULL|                  NULL|              NULL|                           NULL|         NULL|          NULL|       NULL|              NULL|             NULL|                   NULL|          NULL|            NULL|                   7538.0|                          NULL|                         NULL|                               NULL|                      NULL|                                183.0|                        5387.0|                                     0.013|            46.3|            54.422|      18.6|        2.581|        1.337|      1803.987|           NULL|              597.029|               9.59|          NULL|        NULL|                37.746|                       0.5|          64.83|                  0.511|4.1128772E7|                                NULL|                       NULL|            NULL|                                   NULL|\n",
            "|     AFG|     Asia|Afghanistan|2021-06-23|   107957.0|   2208.0|          2095.571|      4366.0|      73.0|             97.571|               2624.853|               53.685|                        50.951|                 106.154|                 1.775|                          2.372|             1.09|        NULL|                    NULL|         NULL|                     NULL|                 NULL|                             NULL|                  NULL|                              NULL|       NULL|     NULL|                    NULL|                  NULL|              NULL|                           NULL|         NULL|          NULL|       NULL|              NULL|             NULL|                   NULL|          NULL|            NULL|                  13125.0|                          NULL|                         NULL|                               NULL|                      NULL|                                319.0|                       12358.0|                                      0.03|            46.3|            54.422|      18.6|        2.581|        1.337|      1803.987|           NULL|              597.029|               9.59|          NULL|        NULL|                37.746|                       0.5|          64.83|                  0.511|4.1128772E7|                                NULL|                       NULL|            NULL|                                   NULL|\n",
            "|     AFG|     Asia|Afghanistan|2021-06-18|    98734.0|   2203.0|            1574.0|      3934.0|      92.0|             74.571|               2400.607|               53.563|                         38.27|                  95.651|                 2.237|                          1.813|             1.16|        NULL|                    NULL|         NULL|                     NULL|                 NULL|                             NULL|                  NULL|                              NULL|       NULL|     NULL|                    NULL|                  NULL|              NULL|                           NULL|         NULL|          NULL|       NULL|              NULL|             NULL|                   NULL|          NULL|            NULL|                   8900.0|                          NULL|                         NULL|                               NULL|                      NULL|                                216.0|                        7084.0|                                     0.017|            46.3|            54.422|      18.6|        2.581|        1.337|      1803.987|           NULL|              597.029|               9.59|          NULL|        NULL|                37.746|                       0.5|          64.83|                  0.511|4.1128772E7|                                NULL|                       NULL|            NULL|                                   NULL|\n",
            "|     AFG|     Asia|Afghanistan|2021-06-25|   111592.0|   2060.0|          1836.857|      4519.0|      67.0|             83.571|               2713.234|               50.087|                        44.661|                 109.874|                 1.629|                          2.032|             1.05|        NULL|                    NULL|         NULL|                     NULL|                 NULL|                             NULL|                  NULL|                              NULL|       NULL|     NULL|                    NULL|                  NULL|              NULL|                           NULL|         NULL|          NULL|       NULL|              NULL|             NULL|                   NULL|          NULL|            NULL|                  13404.0|                          NULL|                         NULL|                               NULL|                      NULL|                                326.0|                       12726.0|                                     0.031|            46.3|            54.422|      18.6|        2.581|        1.337|      1803.987|           NULL|              597.029|               9.59|          NULL|        NULL|                37.746|                       0.5|          64.83|                  0.511|4.1128772E7|                                NULL|                       NULL|            NULL|                                   NULL|\n",
            "|     AFG|     Asia|Afghanistan|2021-06-21|   103902.0|   1996.0|          1777.714|      4215.0|      93.0|             86.143|               2526.261|               48.531|                        43.223|                 102.483|                 2.261|                          2.094|             1.12|        NULL|                    NULL|         NULL|                     NULL|                 NULL|                             NULL|                  NULL|                              NULL|       NULL|     NULL|                    NULL|                  NULL|              NULL|                           NULL|         NULL|          NULL|       NULL|              NULL|             NULL|                   NULL|          NULL|            NULL|                  12986.0|                          NULL|                         NULL|                               NULL|                      NULL|                                316.0|                       12174.0|                                      0.03|            46.3|            54.422|      18.6|        2.581|        1.337|      1803.987|           NULL|              597.029|               9.59|          NULL|        NULL|                37.746|                       0.5|          64.83|                  0.511|4.1128772E7|                                NULL|                       NULL|            NULL|                                   NULL|\n",
            "|     AFG|     Asia|Afghanistan|2021-07-02|   122156.0|   1940.0|          1509.143|      5048.0|      86.0|             75.571|               2970.086|               47.169|                        36.693|                 122.736|                 2.091|                          1.837|             0.96|        NULL|                    NULL|         NULL|                     NULL|                 NULL|                             NULL|                  NULL|                              NULL|       NULL|     NULL|                    NULL|                  NULL|              NULL|                           NULL|         NULL|          NULL|       NULL|              NULL|             NULL|                   NULL|          NULL|            NULL|                  12944.0|                          NULL|                         NULL|                               NULL|                      NULL|                                315.0|                       12507.0|                                      0.03|            46.3|            54.422|      18.6|        2.581|        1.337|      1803.987|           NULL|              597.029|               9.59|          NULL|        NULL|                37.746|                       0.5|          64.83|                  0.511|4.1128772E7|                                NULL|                       NULL|            NULL|                                   NULL|\n",
            "|     AFG|     Asia|Afghanistan|2021-06-22|   105749.0|   1847.0|          1782.429|      4293.0|      78.0|             87.143|               2571.168|               44.908|                        43.338|                 104.379|                 1.896|                          2.119|              1.1|        NULL|                    NULL|         NULL|                     NULL|                 NULL|                             NULL|                  NULL|                              NULL|       NULL|     NULL|                    NULL|                  NULL|              NULL|                           NULL|         NULL|          NULL|       NULL|          765890.0|         582128.0|               183762.0|          NULL|            NULL|                  12986.0|                          1.86|                         1.42|                               0.45|                      NULL|                                316.0|                       12174.0|                                      0.03|            46.3|            54.422|      18.6|        2.581|        1.337|      1803.987|           NULL|              597.029|               9.59|          NULL|        NULL|                37.746|                       0.5|          64.83|                  0.511|4.1128772E7|                                NULL|                       NULL|            NULL|                                   NULL|\n",
            "|     AFG|     Asia|Afghanistan|2021-06-10|    85892.0|   1842.0|            1539.0|      3356.0|      51.0|               46.0|               2088.368|               44.786|                        37.419|                  81.597|                  1.24|                          1.118|             1.26|        NULL|                    NULL|         NULL|                     NULL|                 NULL|                             NULL|                  NULL|                              NULL|       NULL|     NULL|                    NULL|                  NULL|              NULL|                           NULL|         NULL|          NULL|       NULL|              NULL|             NULL|                   NULL|          NULL|            NULL|                   2556.0|                          NULL|                         NULL|                               NULL|                      NULL|                                 62.0|                         250.0|                                     0.001|           41.67|            54.422|      18.6|        2.581|        1.337|      1803.987|           NULL|              597.029|               9.59|          NULL|        NULL|                37.746|                       0.5|          64.83|                  0.511|4.1128772E7|                                NULL|                       NULL|            NULL|                                   NULL|\n",
            "|     AFG|     Asia|Afghanistan|2021-06-11|    87716.0|   1824.0|            1584.0|      3412.0|      56.0|             49.143|               2132.716|               44.349|                        38.513|                  82.959|                 1.362|                          1.195|             1.25|        NULL|                    NULL|         NULL|                     NULL|                 NULL|                             NULL|                  NULL|                              NULL|       NULL|     NULL|                    NULL|                  NULL|              NULL|                           NULL|         NULL|          NULL|       NULL|              NULL|             NULL|                   NULL|          NULL|            NULL|                   2735.0|                          NULL|                         NULL|                               NULL|                      NULL|                                 66.0|                         259.0|                                     0.001|           41.67|            54.422|      18.6|        2.581|        1.337|      1803.987|           NULL|              597.029|               9.59|          NULL|        NULL|                37.746|                       0.5|          64.83|                  0.511|4.1128772E7|                                NULL|                       NULL|            NULL|                                   NULL|\n",
            "|     AFG|     Asia|Afghanistan|2021-06-15|    93272.0|   1814.0|          1563.714|      3683.0|      71.0|             61.714|               2267.804|               44.105|                         38.02|                  89.548|                 1.726|                          1.501|              1.2|        NULL|                    NULL|         NULL|                     NULL|                 NULL|                             NULL|                  NULL|                              NULL|       NULL|     NULL|                    NULL|                  NULL|              NULL|                           NULL|         NULL|          NULL|       NULL|              NULL|             NULL|                   NULL|          NULL|            NULL|                   4813.0|                          NULL|                         NULL|                               NULL|                      NULL|                                117.0|                        1994.0|                                     0.005|            46.3|            54.422|      18.6|        2.581|        1.337|      1803.987|           NULL|              597.029|               9.59|          NULL|        NULL|                37.746|                       0.5|          64.83|                  0.511|4.1128772E7|                                NULL|                       NULL|            NULL|                                   NULL|\n",
            "|     AFG|     Asia|Afghanistan|2021-06-19|   100521.0|   1787.0|            1683.0|      4030.0|      96.0|               83.0|               2444.055|               43.449|                         40.92|                  97.985|                 2.334|                          2.018|             1.15|        NULL|                    NULL|         NULL|                     NULL|                 NULL|                             NULL|                  NULL|                              NULL|       NULL|     NULL|                    NULL|                  NULL|              NULL|                           NULL|         NULL|          NULL|       NULL|              NULL|             NULL|                   NULL|          NULL|            NULL|                  10262.0|                          NULL|                         NULL|                               NULL|                      NULL|                                250.0|                        8781.0|                                     0.021|            46.3|            54.422|      18.6|        2.581|        1.337|      1803.987|           NULL|              597.029|               9.59|          NULL|        NULL|                37.746|                       0.5|          64.83|                  0.511|4.1128772E7|                                NULL|                       NULL|            NULL|                                   NULL|\n",
            "|     AFG|     Asia|Afghanistan|2021-06-09|    84050.0|   1724.0|            1432.0|      3305.0|      54.0|             42.571|               2043.582|               41.917|                        34.817|                  80.357|                 1.313|                          1.035|             1.28|        NULL|                    NULL|         NULL|                     NULL|                 NULL|                             NULL|                  NULL|                              NULL|       NULL|     NULL|                    NULL|                  NULL|              NULL|                           NULL|         NULL|          NULL|       NULL|              NULL|             NULL|                   NULL|          NULL|            NULL|                   2637.0|                          NULL|                         NULL|                               NULL|                      NULL|                                 64.0|                         223.0|                                     0.001|           41.67|            54.422|      18.6|        2.581|        1.337|      1803.987|           NULL|              597.029|               9.59|          NULL|        NULL|                37.746|                       0.5|          64.83|                  0.511|4.1128772E7|                                NULL|                       NULL|            NULL|                                   NULL|\n",
            "|     AFG|     Asia|Afghanistan|2021-06-07|    80841.0|   1617.0|          1286.143|      3187.0|      42.0|             34.714|               1965.558|               39.316|                        31.271|                  77.488|                 1.021|                          0.844|             1.31|        NULL|                    NULL|         NULL|                     NULL|                 NULL|                             NULL|                  NULL|                              NULL|       NULL|     NULL|                    NULL|                  NULL|              NULL|                           NULL|         NULL|          NULL|       NULL|              NULL|             NULL|                   NULL|          NULL|            NULL|                   4319.0|                          NULL|                         NULL|                               NULL|                      NULL|                                105.0|                         287.0|                                     0.001|           41.67|            54.422|      18.6|        2.581|        1.337|      1803.987|           NULL|              597.029|               9.59|          NULL|        NULL|                37.746|                       0.5|          64.83|                  0.511|4.1128772E7|                                NULL|                       NULL|            NULL|                                   NULL|\n",
            "|     AFG|     Asia|Afghanistan|2021-06-14|    91458.0|   1597.0|          1516.714|      3612.0|      85.0|             60.714|               2223.699|               38.829|                        36.877|                  87.822|                 2.067|                          1.476|             1.21|        NULL|                    NULL|         NULL|                     NULL|                 NULL|                             NULL|                  NULL|                              NULL|       NULL|     NULL|                    NULL|                  NULL|              NULL|                           NULL|         NULL|          NULL|       NULL|          662003.0|         484737.0|               177266.0|          NULL|            NULL|                   3272.0|                          1.61|                         1.18|                               0.43|                      NULL|                                 80.0|                         288.0|                                     0.001|            46.3|            54.422|      18.6|        2.581|        1.337|      1803.987|           NULL|              597.029|               9.59|          NULL|        NULL|                37.746|                       0.5|          64.83|                  0.511|4.1128772E7|                                NULL|                       NULL|            NULL|                                   NULL|\n",
            "|     AFG|     Asia|Afghanistan|2021-06-24|   109532.0|   1575.0|          1857.286|      4452.0|      86.0|             87.143|               2663.148|               38.294|                        45.158|                 108.245|                 2.091|                          2.119|             1.07|        NULL|                    NULL|         NULL|                     NULL|                 NULL|                             NULL|                  NULL|                              NULL|       NULL|     NULL|                    NULL|                  NULL|              NULL|                           NULL|         NULL|          NULL|       NULL|              NULL|             NULL|                   NULL|          NULL|            NULL|                  13264.0|                          NULL|                         NULL|                               NULL|                      NULL|                                322.0|                       12542.0|                                      0.03|            46.3|            54.422|      18.6|        2.581|        1.337|      1803.987|           NULL|              597.029|               9.59|          NULL|        NULL|                37.746|                       0.5|          64.83|                  0.511|4.1128772E7|                                NULL|                       NULL|            NULL|                                   NULL|\n",
            "|     AFG|     Asia|Afghanistan|2021-07-01|   120216.0|   1557.0|          1526.286|      4962.0|      91.0|             72.857|               2922.917|               37.857|                         37.11|                 120.645|                 2.213|                          1.771|             0.97|        NULL|                    NULL|         NULL|                     NULL|                 NULL|                             NULL|                  NULL|                              NULL|       NULL|     NULL|                    NULL|                  NULL|              NULL|                           NULL|         NULL|          NULL|       NULL|              NULL|             NULL|                   NULL|          NULL|            NULL|                  14115.0|                          NULL|                         NULL|                               NULL|                      NULL|                                343.0|                       13654.0|                                     0.033|            46.3|            54.422|      18.6|        2.581|        1.337|      1803.987|           NULL|              597.029|               9.59|          NULL|        NULL|                37.746|                       0.5|          64.83|                  0.511|4.1128772E7|                                NULL|                       NULL|            NULL|                                   NULL|\n",
            "|     AFG|     Asia|Afghanistan|2021-07-07|   129021.0|   1557.0|          1480.286|      5415.0|      55.0|             77.714|               3137.001|               37.857|                        35.991|                  131.66|                 1.337|                           1.89|             0.91|        NULL|                    NULL|         NULL|                     NULL|                 NULL|                             NULL|                  NULL|                              NULL|       NULL|     NULL|                    NULL|                  NULL|              NULL|                           NULL|         NULL|          NULL|       NULL|          934463.0|         735213.0|               199250.0|          NULL|            NULL|                   6801.0|                          2.27|                         1.79|                               0.48|                      NULL|                                165.0|                        5145.0|                                     0.013|           56.02|            54.422|      18.6|        2.581|        1.337|      1803.987|           NULL|              597.029|               9.59|          NULL|        NULL|                37.746|                       0.5|          64.83|                  0.511|4.1128772E7|                                NULL|                       NULL|            NULL|                                   NULL|\n",
            "|     AFG|     Asia|Afghanistan|2021-06-26|   113124.0|   1532.0|          1800.429|      4594.0|      75.0|             80.571|               2750.483|               37.249|                        43.775|                 111.698|                 1.824|                          1.959|             1.04|        NULL|                    NULL|         NULL|                     NULL|                 NULL|                             NULL|                  NULL|                              NULL|       NULL|     NULL|                    NULL|                  NULL|              NULL|                           NULL|         NULL|          NULL|       NULL|              NULL|             NULL|                   NULL|          NULL|            NULL|                  13543.0|                          NULL|                         NULL|                               NULL|                      NULL|                                329.0|                       12909.0|                                     0.031|            46.3|            54.422|      18.6|        2.581|        1.337|      1803.987|           NULL|              597.029|               9.59|          NULL|        NULL|                37.746|                       0.5|          64.83|                  0.511|4.1128772E7|                                NULL|                       NULL|            NULL|                                   NULL|\n",
            "|     AFG|     Asia|Afghanistan|2021-06-28|   115751.0|   1531.0|          1692.714|      4730.0|      80.0|             73.571|               2814.356|               37.225|                        41.156|                 115.005|                 1.945|                          1.789|             1.01|        NULL|                    NULL|         NULL|                     NULL|                 NULL|                             NULL|                  NULL|                              NULL|       NULL|     NULL|                    NULL|                  NULL|              NULL|                           NULL|         NULL|          NULL|       NULL|              NULL|             NULL|                   NULL|          NULL|            NULL|                  14263.0|                          NULL|                         NULL|                               NULL|                      NULL|                                347.0|                       13724.0|                                     0.033|            46.3|            54.422|      18.6|        2.581|        1.337|      1803.987|           NULL|              597.029|               9.59|          NULL|        NULL|                37.746|                       0.5|          64.83|                  0.511|4.1128772E7|                                NULL|                       NULL|            NULL|                                   NULL|\n",
            "|     AFG|     Asia|Afghanistan|2021-07-06|   127464.0|   1527.0|          1472.286|      5360.0|      77.0|             80.857|               3099.144|               37.127|                        35.797|                 130.322|                 1.872|                          1.966|             0.92|        NULL|                    NULL|         NULL|                     NULL|                 NULL|                             NULL|                  NULL|                              NULL|       NULL|     NULL|                    NULL|                  NULL|              NULL|                           NULL|         NULL|          NULL|       NULL|              NULL|             NULL|                   NULL|          NULL|            NULL|                   7895.0|                          NULL|                         NULL|                               NULL|                      NULL|                                192.0|                        6881.0|                                     0.017|           56.02|            54.422|      18.6|        2.581|        1.337|      1803.987|           NULL|              597.029|               9.59|          NULL|        NULL|                37.746|                       0.5|          64.83|                  0.511|4.1128772E7|                                NULL|                       NULL|            NULL|                                   NULL|\n",
            "+--------+---------+-----------+----------+-----------+---------+------------------+------------+----------+-------------------+-----------------------+---------------------+------------------------------+------------------------+----------------------+-------------------------------+-----------------+------------+------------------------+-------------+-------------------------+---------------------+---------------------------------+----------------------+----------------------------------+-----------+---------+------------------------+----------------------+------------------+-------------------------------+-------------+--------------+-----------+------------------+-----------------+-----------------------+--------------+----------------+-------------------------+------------------------------+-----------------------------+-----------------------------------+--------------------------+-------------------------------------+------------------------------+------------------------------------------+----------------+------------------+----------+-------------+-------------+--------------+---------------+---------------------+-------------------+--------------+------------+----------------------+--------------------------+---------------+-----------------------+-----------+------------------------------------+---------------------------+----------------+---------------------------------------+\n",
            "only showing top 20 rows\n",
            "\n"
          ]
        }
      ]
    },
    {
      "cell_type": "code",
      "source": [
        "# Group by function\n",
        "df.groupBy(\"location\").sum(\"new_cases\").orderBy(F.desc(\"sum(new_cases)\")).show(truncate=False)"
      ],
      "metadata": {
        "colab": {
          "base_uri": "https://localhost:8080/"
        },
        "id": "p2m2fbeL0w-g",
        "outputId": "8394f541-cb31-4421-b57a-8b4d8ee5f690"
      },
      "execution_count": null,
      "outputs": [
        {
          "output_type": "stream",
          "name": "stdout",
          "text": [
            "+-------------------+--------------+\n",
            "|location           |sum(new_cases)|\n",
            "+-------------------+--------------+\n",
            "|World              |7.71901143E8  |\n",
            "|High income        |4.26293014E8  |\n",
            "|Asia               |3.00797149E8  |\n",
            "|Europe             |2.50114367E8  |\n",
            "|Upper middle income|2.44569228E8  |\n",
            "|European Union     |1.84433642E8  |\n",
            "|North America      |1.24493368E8  |\n",
            "|United States      |1.03436829E8  |\n",
            "|China              |9.9318742E7   |\n",
            "|Lower middle income|9.7504121E7   |\n",
            "|South America      |6.8847969E7   |\n",
            "|India              |4.5002138E7   |\n",
            "|France             |3.899749E7    |\n",
            "|Germany            |3.8437756E7   |\n",
            "|Brazil             |3.7722322E7   |\n",
            "|South Korea        |3.4571873E7   |\n",
            "|Japan              |3.3803572E7   |\n",
            "|Italy              |2.6257548E7   |\n",
            "|United Kingdom     |2.4804243E7   |\n",
            "|Russia             |2.3124717E7   |\n",
            "+-------------------+--------------+\n",
            "only showing top 20 rows\n",
            "\n"
          ]
        }
      ]
    },
    {
      "cell_type": "markdown",
      "source": [
        "## Pyspark SQL\n"
      ],
      "metadata": {
        "id": "C8MzKLO6jWr6"
      }
    },
    {
      "cell_type": "code",
      "source": [
        "df.createOrReplaceTempView(\"covid\")"
      ],
      "metadata": {
        "id": "DJjQCCIZh6tt"
      },
      "execution_count": 5,
      "outputs": []
    },
    {
      "cell_type": "code",
      "source": [
        "df2 = spark.sql(\"SELECT * FROM covid\")\n",
        "df2.printSchema()"
      ],
      "metadata": {
        "colab": {
          "base_uri": "https://localhost:8080/"
        },
        "id": "tTzPzy7llSIP",
        "outputId": "9aa43185-b005-4421-bd1c-c896fd605250"
      },
      "execution_count": 6,
      "outputs": [
        {
          "output_type": "stream",
          "name": "stdout",
          "text": [
            "root\n",
            " |-- iso_code: string (nullable = true)\n",
            " |-- continent: string (nullable = true)\n",
            " |-- location: string (nullable = true)\n",
            " |-- date: date (nullable = true)\n",
            " |-- total_cases: double (nullable = true)\n",
            " |-- new_cases: double (nullable = true)\n",
            " |-- new_cases_smoothed: double (nullable = true)\n",
            " |-- total_deaths: double (nullable = true)\n",
            " |-- new_deaths: double (nullable = true)\n",
            " |-- new_deaths_smoothed: double (nullable = true)\n",
            " |-- total_cases_per_million: double (nullable = true)\n",
            " |-- new_cases_per_million: double (nullable = true)\n",
            " |-- new_cases_smoothed_per_million: double (nullable = true)\n",
            " |-- total_deaths_per_million: double (nullable = true)\n",
            " |-- new_deaths_per_million: double (nullable = true)\n",
            " |-- new_deaths_smoothed_per_million: double (nullable = true)\n",
            " |-- reproduction_rate: double (nullable = true)\n",
            " |-- icu_patients: double (nullable = true)\n",
            " |-- icu_patients_per_million: double (nullable = true)\n",
            " |-- hosp_patients: double (nullable = true)\n",
            " |-- hosp_patients_per_million: double (nullable = true)\n",
            " |-- weekly_icu_admissions: double (nullable = true)\n",
            " |-- weekly_icu_admissions_per_million: double (nullable = true)\n",
            " |-- weekly_hosp_admissions: double (nullable = true)\n",
            " |-- weekly_hosp_admissions_per_million: double (nullable = true)\n",
            " |-- total_tests: double (nullable = true)\n",
            " |-- new_tests: double (nullable = true)\n",
            " |-- total_tests_per_thousand: double (nullable = true)\n",
            " |-- new_tests_per_thousand: double (nullable = true)\n",
            " |-- new_tests_smoothed: double (nullable = true)\n",
            " |-- new_tests_smoothed_per_thousand: double (nullable = true)\n",
            " |-- positive_rate: double (nullable = true)\n",
            " |-- tests_per_case: double (nullable = true)\n",
            " |-- tests_units: string (nullable = true)\n",
            " |-- total_vaccinations: double (nullable = true)\n",
            " |-- people_vaccinated: double (nullable = true)\n",
            " |-- people_fully_vaccinated: double (nullable = true)\n",
            " |-- total_boosters: double (nullable = true)\n",
            " |-- new_vaccinations: double (nullable = true)\n",
            " |-- new_vaccinations_smoothed: double (nullable = true)\n",
            " |-- total_vaccinations_per_hundred: double (nullable = true)\n",
            " |-- people_vaccinated_per_hundred: double (nullable = true)\n",
            " |-- people_fully_vaccinated_per_hundred: double (nullable = true)\n",
            " |-- total_boosters_per_hundred: double (nullable = true)\n",
            " |-- new_vaccinations_smoothed_per_million: double (nullable = true)\n",
            " |-- new_people_vaccinated_smoothed: double (nullable = true)\n",
            " |-- new_people_vaccinated_smoothed_per_hundred: double (nullable = true)\n",
            " |-- stringency_index: double (nullable = true)\n",
            " |-- population_density: double (nullable = true)\n",
            " |-- median_age: double (nullable = true)\n",
            " |-- aged_65_older: double (nullable = true)\n",
            " |-- aged_70_older: double (nullable = true)\n",
            " |-- gdp_per_capita: double (nullable = true)\n",
            " |-- extreme_poverty: double (nullable = true)\n",
            " |-- cardiovasc_death_rate: double (nullable = true)\n",
            " |-- diabetes_prevalence: double (nullable = true)\n",
            " |-- female_smokers: double (nullable = true)\n",
            " |-- male_smokers: double (nullable = true)\n",
            " |-- handwashing_facilities: double (nullable = true)\n",
            " |-- hospital_beds_per_thousand: double (nullable = true)\n",
            " |-- life_expectancy: double (nullable = true)\n",
            " |-- human_development_index: double (nullable = true)\n",
            " |-- population: double (nullable = true)\n",
            " |-- excess_mortality_cumulative_absolute: double (nullable = true)\n",
            " |-- excess_mortality_cumulative: double (nullable = true)\n",
            " |-- excess_mortality: double (nullable = true)\n",
            " |-- excess_mortality_cumulative_per_million: double (nullable = true)\n",
            "\n"
          ]
        }
      ]
    },
    {
      "cell_type": "code",
      "source": [
        "grouped_df = spark.sql(\"SELECT location, count(total_cases) AS total from covid GROUP BY location ORDER BY location\")\n",
        "grouped_df.show()"
      ],
      "metadata": {
        "colab": {
          "base_uri": "https://localhost:8080/"
        },
        "id": "rzMscgqhnWSU",
        "outputId": "e2e78706-7982-4331-9b32-4382d7b6f595"
      },
      "execution_count": 10,
      "outputs": [
        {
          "output_type": "stream",
          "name": "stdout",
          "text": [
            "+-------------------+-----+\n",
            "|           location|total|\n",
            "+-------------------+-----+\n",
            "|        Afghanistan| 1366|\n",
            "|             Africa| 1376|\n",
            "|            Albania| 1352|\n",
            "|            Algeria| 1366|\n",
            "|     American Samoa|  796|\n",
            "|            Andorra| 1360|\n",
            "|             Angola| 1333|\n",
            "|           Anguilla| 1336|\n",
            "|Antigua and Barbuda| 1348|\n",
            "|          Argentina| 1358|\n",
            "|            Armenia| 1361|\n",
            "|              Aruba| 1344|\n",
            "|               Asia| 1419|\n",
            "|          Australia| 1398|\n",
            "|            Austria| 1364|\n",
            "|         Azerbaijan| 1363|\n",
            "|            Bahamas| 1346|\n",
            "|            Bahrain| 1366|\n",
            "|         Bangladesh| 1355|\n",
            "|           Barbados| 1345|\n",
            "+-------------------+-----+\n",
            "only showing top 20 rows\n",
            "\n"
          ]
        }
      ]
    },
    {
      "cell_type": "code",
      "source": [],
      "metadata": {
        "id": "tAuUwZ-5iY5x"
      },
      "execution_count": null,
      "outputs": []
    }
  ]
}